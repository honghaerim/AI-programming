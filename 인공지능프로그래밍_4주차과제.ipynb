{
  "nbformat": 4,
  "nbformat_minor": 0,
  "metadata": {
    "colab": {
      "provenance": [],
      "authorship_tag": "ABX9TyNd48DNc1BUn3VZDUUYC7K+",
      "include_colab_link": true
    },
    "kernelspec": {
      "name": "python3",
      "display_name": "Python 3"
    },
    "language_info": {
      "name": "python"
    }
  },
  "cells": [
    {
      "cell_type": "markdown",
      "metadata": {
        "id": "view-in-github",
        "colab_type": "text"
      },
      "source": [
        "<a href=\"https://colab.research.google.com/github/honghaerim/AI-programming/blob/main/%EC%9D%B8%EA%B3%B5%EC%A7%80%EB%8A%A5%ED%94%84%EB%A1%9C%EA%B7%B8%EB%9E%98%EB%B0%8D_4%EC%A3%BC%EC%B0%A8%EA%B3%BC%EC%A0%9C.ipynb\" target=\"_parent\"><img src=\"https://colab.research.google.com/assets/colab-badge.svg\" alt=\"Open In Colab\"/></a>"
      ]
    },
    {
      "cell_type": "code",
      "execution_count": null,
      "metadata": {
        "colab": {
          "base_uri": "https://localhost:8080/"
        },
        "id": "bWQExWDsiJrm",
        "outputId": "50036c97-52ab-4311-969b-b3819db178d8"
      },
      "outputs": [
        {
          "output_type": "execute_result",
          "data": {
            "text/plain": [
              "array([[[ 0,  1,  2],\n",
              "        [ 3,  4,  5],\n",
              "        [ 6,  7,  8],\n",
              "        [ 9, 10, 11]],\n",
              "\n",
              "       [[12, 13, 14],\n",
              "        [15, 16, 17],\n",
              "        [18, 19, 20],\n",
              "        [21, 22, 23]]])"
            ]
          },
          "metadata": {},
          "execution_count": 3
        }
      ],
      "source": [
        "import numpy as np\n",
        "x = np.array(range(24)).reshape(2,4,3)\n",
        "x"
      ]
    },
    {
      "cell_type": "markdown",
      "source": [],
      "metadata": {
        "id": "U2tDTNld52xN"
      }
    },
    {
      "cell_type": "code",
      "source": [
        "import numpy as np\n",
        "lotto = []\n",
        "for _ in range(3):\n",
        "  a = np.arange(1, 46)\n",
        "  np.random.shuffle(a)\n",
        "  lotto.append(a[:6])\n",
        "\n",
        "lotto = np.array(lotto)\n",
        "\n",
        "print('lotto \\n', lotto)"
      ],
      "metadata": {
        "colab": {
          "base_uri": "https://localhost:8080/"
        },
        "id": "avSBgfZEoiQG",
        "outputId": "73c3c126-c83c-4368-bdbb-42a2f0c10cf3"
      },
      "execution_count": 21,
      "outputs": [
        {
          "output_type": "stream",
          "name": "stdout",
          "text": [
            "lotto \n",
            " [[24  8  1 40 35 34]\n",
            " [30  5 26 34 39 45]\n",
            " [30 26 29 22 18 28]]\n"
          ]
        }
      ]
    },
    {
      "cell_type": "code",
      "source": [
        "import numpy as np\n",
        "\n",
        "shape = (3, 3, 6)\n",
        "array = np.random.randint(0, 20, shape)\n",
        "print('3차원배열 \\n', array)"
      ],
      "metadata": {
        "colab": {
          "base_uri": "https://localhost:8080/"
        },
        "id": "jREkzLKGpes8",
        "outputId": "c0b07767-34f2-498e-aa9e-43d94c90f4a3"
      },
      "execution_count": 20,
      "outputs": [
        {
          "output_type": "stream",
          "name": "stdout",
          "text": [
            "3차원배열 \n",
            " [[[ 6 18  9  7  7 16]\n",
            "  [13  3 16 14  1  0]\n",
            "  [ 2 17 14  6  2  8]]\n",
            "\n",
            " [[ 0  1  5 11  8 18]\n",
            "  [17 16  8  4 17  3]\n",
            "  [13  2  6 17  1 10]]\n",
            "\n",
            " [[ 3  9  2  2 17 16]\n",
            "  [19  0  2 16 13  8]\n",
            "  [11  3 17 13 10  7]]]\n"
          ]
        }
      ]
    },
    {
      "cell_type": "code",
      "source": [
        "import numpy as np\n",
        "\n",
        "shape = (5, 6)\n",
        "\n",
        "array = np.random.randint(0, 100, shape)\n",
        "\n",
        "print('2차원배열 \\n', array)"
      ],
      "metadata": {
        "colab": {
          "base_uri": "https://localhost:8080/"
        },
        "id": "ptYY9J194Vy8",
        "outputId": "eaad8031-02bb-4f3e-c169-8c7698bc7f69"
      },
      "execution_count": 22,
      "outputs": [
        {
          "output_type": "stream",
          "name": "stdout",
          "text": [
            "2차원배열 \n",
            " [[44 29 54 55 66 74]\n",
            " [46 96 35  2  7 35]\n",
            " [11 49 88 58 67 60]\n",
            " [37 75  4 39 74  4]\n",
            " [72 19 68 56 55 76]]\n"
          ]
        }
      ]
    },
    {
      "cell_type": "code",
      "source": [
        "import numpy as np\n",
        "\n",
        "temp = np.arange(48)\n",
        "\n",
        "np.random.shuffle(temp)\n",
        "\n",
        "array = temp.reshape((4, 3, 4))\n",
        "\n",
        "print(\"3차원배열 \\n\", array)"
      ],
      "metadata": {
        "colab": {
          "base_uri": "https://localhost:8080/"
        },
        "id": "jm0_4ra04oUZ",
        "outputId": "4a872acc-d2b9-40d7-e5f4-b78196e9c05f"
      },
      "execution_count": 27,
      "outputs": [
        {
          "output_type": "stream",
          "name": "stdout",
          "text": [
            "3차원배열 \n",
            " [[[41 20 46  8]\n",
            "  [24 22 31 40]\n",
            "  [36  3 47 32]]\n",
            "\n",
            " [[ 7 12 38 23]\n",
            "  [14 13  2  4]\n",
            "  [ 9 19 42 33]]\n",
            "\n",
            " [[27 21 18 30]\n",
            "  [39  0 15 37]\n",
            "  [17 25 43 34]]\n",
            "\n",
            " [[28 11  5 16]\n",
            "  [ 6 45 26 29]\n",
            "  [ 1 10 44 35]]]\n"
          ]
        }
      ]
    },
    {
      "cell_type": "code",
      "source": [
        "import numpy as np\n",
        "\n",
        "temp = np.arange(48)\n",
        "\n",
        "np.random.shuffle(temp)\n",
        "\n",
        "array = temp.reshape((6, 8))\n",
        "\n",
        "print(\"2차원배열 \\n\", array)"
      ],
      "metadata": {
        "colab": {
          "base_uri": "https://localhost:8080/"
        },
        "id": "-8mHJ_kf5FpT",
        "outputId": "9c9ebe7c-9800-496e-ed57-da812d6ae39f"
      },
      "execution_count": 29,
      "outputs": [
        {
          "output_type": "stream",
          "name": "stdout",
          "text": [
            "2차원배열 \n",
            " [[12 25 37 14 16 15 31 35]\n",
            " [43  9 39 34 27 47 26  7]\n",
            " [ 0 36  2  1 30 45 22 23]\n",
            " [20 33 17 32 18  6 41 29]\n",
            " [42 21 38 10  3 44 40  8]\n",
            " [28 46  5 11 24  4 13 19]]\n"
          ]
        }
      ]
    }
  ]
}